{
 "cells": [
  {
   "cell_type": "code",
   "execution_count": 1,
   "metadata": {},
   "outputs": [],
   "source": [
    "# set-up -- do not change\n",
    "import numpy as np\n",
    "import scipy as sp\n",
    "import scipy.stats as sps\n",
    "import matplotlib.pyplot as plt\n",
    "np.random.seed(1)"
   ]
  },
  {
   "cell_type": "markdown",
   "metadata": {},
   "source": [
    "# Question 1.1 (5 pts)\n",
    "\n",
    "> This question is about performing Bayesian inference in an \"everyday\" scenario, with some simplifying assumptions. Related material was covered in Week 1 of the course.\n",
    "\n",
    "\n",
    "You are one of 80 passengers waiting for your bag at an airport luggage carousel (see Section 2.5 of \\[**MKG23**\\]). We assume each passenger has one and only one bag. In general, your bag looks the same as 6% of all bags. In formulas:\n",
    "$$\n",
    "p(\\text{looks like your bag}|\\text{it is your bag}) = 1, \\qquad p(\\text{looks like your bag}|\\text{it is not your bag}) = 0.06.\n",
    "$$\n",
    "\n",
    "Derive a general expression for the probability that the bag you are viewing (which matches your bag visually) is your own, $$p(\\text{it is your bag} | \\text{looks like your bag}),$$ \n",
    "as a function of the number of bags $b$ you have viewed so far (before the current one). \n",
    "\n",
    "- a) What is $p(\\text{it is your bag} | \\text{looks like your bag})$ after 40 bags have gone by, none of which was yours (that is, $b = 40$)?\n",
    "- b) How many bags must you view (without finding your own) before the posterior probability $p(\\text{it is your bag}|\\text{looks like your bag})$ is equal or greater than 70%?\n",
    "\n",
    "Report your results in Moodle."
   ]
  },
  {
   "cell_type": "code",
   "execution_count": 2,
   "metadata": {},
   "outputs": [
    {
     "name": "stdout",
     "output_type": "stream",
     "text": [
      "a): The probability that the next bag (which looks like your bag) is actually your bag is approximately 0.299401197604790 or 29.940119760479046%.\n",
      "b): The passenger must view 72 bags before the posterior probability 𝑝(it is your bag|looks like your bag) is equal or greater than 70%.\n",
      "Prior probabilities\n"
     ]
    },
    {
     "data": {
      "image/png": "[encoded data removed]",
      "text/plain": [
       "<Figure size 432x288 with 1 Axes>"
      ]
     },
     "metadata": {
      "needs_background": "light"
     },
     "output_type": "display_data"
    },
    {
     "name": "stdout",
     "output_type": "stream",
     "text": [
      "Likelihood function\n"
     ]
    },
    {
     "data": {
      "image/png": "[encoded data removed]",
      "text/plain": [
       "<Figure size 432x288 with 1 Axes>"
      ]
     },
     "metadata": {
      "needs_background": "light"
     },
     "output_type": "display_data"
    },
    {
     "name": "stdout",
     "output_type": "stream",
     "text": [
      "Posterior\n"
     ]
    },
    {
     "data": {
      "image/png": "[encoded data removed]",
      "text/plain": [
       "<Figure size 432x288 with 1 Axes>"
      ]
     },
     "metadata": {
      "needs_background": "light"
     },
     "output_type": "display_data"
    }
   ],
   "source": [
    "# code here... \n",
    "\n",
    "# A function for calculating the posterior.\n",
    "def calculate_probability(b):\n",
    "    \n",
    "    \"\"\"\n",
    "    Parameters:\n",
    "    b(int): Number of bags you have viewed so far.\n",
    "    Let's define A as the event “it is your bag” and B as the event “looks like your bag”.\n",
    "    So 𝑝(looks like your bag|it is your bag)= 1 is p(B|A) and \n",
    "    𝑝(looks like your bag|it is not your bag)= 0.06 is p(B|¬A)\n",
    "    \"\"\"\n",
    "    # Prior probabilities\n",
    "    p_A = 1 / (80 - b)\n",
    "    p_not_A = 1 - p_A\n",
    "    \n",
    "    # Likelihoods\n",
    "    p_B_given_A = 1\n",
    "    p_B_given_not_A = 0.06\n",
    "    # Calculate posterior probability using Bayes' theorem\n",
    "    p_A_given_B = (p_B_given_A * p_A) / (p_B_given_A * p_A + p_B_given_not_A * p_not_A)\n",
    "\n",
    "    return p_A_given_B\n",
    "\n",
    "# a):\n",
    "# Defining the parameter of the Function.\n",
    "b = 40\n",
    "# Calculate posterior probability using the function\n",
    "probability = calculate_probability(b)\n",
    "print(\"a): The probability that the next bag (which looks like your bag) is actually your bag is approximately {:.15f} or {:.15f}%.\".format(probability, probability*100))\n",
    "\n",
    "###########################################################\n",
    "\n",
    "\n",
    "# b):\n",
    "threshold = 0.7 \n",
    "\n",
    "for b in range(80):\n",
    "    p_A_given_B = calculate_probability(b)\n",
    "    if p_A_given_B >= threshold:\n",
    "        print(\"b): The passenger must view {} bags before the posterior probability 𝑝(it is your bag|looks like your bag) is equal or greater than 70%.\".format(b))\n",
    "        break\n",
    "\n",
    "# Showing the obtained values for prior, likelihood, and the posterior in barplots to \n",
    "# have a better understanding.\n",
    "x = (0,1)\n",
    "def plot_diagram(x,y,xticks,ylabel,fontsize=16,tickfontsize=12):\n",
    "    plt.bar(x, y)\n",
    "    plt.ylim([0, 1])\n",
    "    plt.xticks(x, xticks, fontsize=tickfontsize)\n",
    "    plt.xlabel('Hypothetical scenarios', fontsize=fontsize)\n",
    "    plt.ylabel(ylabel, fontsize=fontsize)\n",
    "    plt.show()\n",
    "    \n",
    "print('Prior probabilities')\n",
    "prior = np.array((1 / 40, 39/40))\n",
    "plot_diagram(x, prior, xticks=['$H_1$', '$H_2$'], ylabel='Prior $p(H)$')\n",
    "\n",
    "print('Likelihood function')\n",
    "likelihood = np.array((1,0.06))\n",
    "plot_diagram(x, likelihood, xticks=['$p($obs$|H_1)$', '$p($obs$|H_2)$'], ylabel='Likelihood $p($obs$|H)$')\n",
    "\n",
    "print('Posterior')\n",
    "joint = prior * likelihood\n",
    "posterior = joint / np.sum(joint) # Normalization step\n",
    "plot_diagram(x, posterior, xticks=['$p(H_1|$obs$)$', '$p(H_2|$obs$)$'], ylabel='Posterior $p(H|$obs$)$')\n",
    "\n",
    "# short description abou the posterior: \n",
    "# The result of approximately 0.299 or 29.94% means that, after viewing 40 bags without\n",
    "# finding the bag, the probability that the next bag (which looks like your bag) is actually the passenger's bag is \n",
    "# about 29.9%. This is an increase from the initial prior probability of 1/(𝑛 - 𝑏) = 1/40 = 0.025 or 2.5%, \n",
    "# because with each bag passenger views without finding the main one, the remaining bags are more likely to be the passenger's bag.\n",
    "# Moreover, this means that there is a ~70% probability that the next bag, despite looking like passenger's, is not his bag. \n",
    "# So, in this case, it is indeed more probable that the next bag is not for the passenger."
   ]
  },
  {
   "cell_type": "markdown",
   "metadata": {},
   "source": [
    "# Question 1.2 (5 pts)\n",
    "\n",
    "> This question deals with how perception about the world is influenced by the statistics of the environment. See Chapter 2 and particularly Section 2.6 of \\[**MKG23**\\].\n",
    "\n",
    "\n",
    "Imagine you live in a very boring world consisting of a 2 x 10 grid of squares:\n",
    "\n",
    "```\n",
    "▢▢▢▢▢▢▢▢▢▢\n",
    "▢▢▢▢▢▢▢▢▢▢\n",
    "```\n",
    "Only two things ever happen in this world: \n",
    "- $H1$ (\"vertical bar\"): With a probability of 30%, a vertical bar will appear in this world, consisting of two black squares in a column, chosen so that each possible column is equally probable. \n",
    "- $H2$ (\"independent dots\"): With a probability of 70%, one black square will appear in a random position in the top row (uniformly chosen), and another black square will appear in a random position in the bottom row (uniformly chosen, independently from the first row). \n",
    "\n",
    "When doing inference, we will refer to these possibilities as Hypotheses 1 and 2 ($H1$ and $H2$), respectively.\n",
    "\n",
    "- a) Suppose that as an observer in this world, you see the following retinal image ($\\text{obs}_a$):\n",
    "```\n",
    "▢▢▢▢▢▢■▢▢▢\n",
    "▢▢▢▢▢■▢▢▢▢\n",
    "```  \n",
    "  Calculate the posterior probability of $H1$ and $H2$ and report your results in Moodle.\n",
    "  \n",
    "- b) Suppose in another scenario you have the following retinal image ($\\text{obs}_b$):\n",
    "```\n",
    "▢▢▢▢▢▢■▢▢▢\n",
    "▢▢▢▢▢▢■▢▢▢\n",
    "```  \n",
    "  Calculate the posterior probability of $H1$ and $H2$ and report your results in Moodle.\n",
    "\n",
    "- c) Write out a brief explanation of your reasoning for parts (a) and (b), and report them in Moodle. Add a brief explanation for how your answer to (b) may explain why observers in this world may tend to perceive the second image as containing a *single object*, as opposed to two separate dots. (max 200 words)"
   ]
  },
  {
   "cell_type": "markdown",
   "metadata": {},
   "source": [
    "### Answers\n",
    "\n",
    "Write your extended answers here if needed, and report a summary in Moodle (max 200 words).\n",
    "\n",
    "\n",
    "In order to calculate the posterior for the available scenarios, we need to find the likelihoods at first. As it is mentioned, the prior for having a vertical bar is 0.3 and the probability of having independent dots is 0.7 which is reasonable since the probability of having independent dots can be higher. \n",
    "\n",
    "\n",
    "For the first observation(obs_a), the probability of obs_a given H1 (vertical bar) is zero since when the location of dots is different we cannot have a vertical bar. On the other hand, the probability of obs_a given H2(independent dots) is 0.1 * 0.1 = 0.01 since two black dots are chosen from first and the second row independently with 0.1 of probability. Moreover the evidence which is the summation of likelihood*prior for different priors is equal to 0*0.3 + 0.01 * 0.7 = 0. \n",
    "\n",
    "\n",
    "Now the posterior probability of H1(vertical_bar) given obs_a is 0 * 0.3 / (0* 0.3 + 0.01 * 0.7) = 0\n",
    "The posterior probability of H2(Independent_dots) given obs_a is 0.01 * 0.7 / (0* 0.3 + 0.01 * 0.7) = 1\n",
    "This means that, given the observed data, 𝐻2 (“independent dots”) is the most likely hypothesis.\n",
    "\n",
    "For the first observation(obs_b), the probability of obs_b given H1 (vertical bar) is 0.1 since each possible column is equally probable so the probability of choosing that specific columns is 1/10. On the other hand, the probability of obs_b given H2(independent dots) is again 0.1 * 0.1 = 0.01 because of the same reason in the last part. But the evidence should be modified which is equal to 0.1*0.3 + 0.01 * 0.7 = 0037. \n",
    "\n",
    "\n",
    "So in this situation the posterior probability of H1(vertical_bar) given obs_a is 0.1 * 0.3 / (0.1* 0.3 + 0.01 * 0.7) = ~0.81\n",
    "The posterior probability of H2(Independent_dots) given obs_a is 0.01 * 0.7 / (0* 0.3 + 0.01 * 0.7) = ~0.19\n",
    "This means that, given the observed data, 𝐻1 (“Vertical”) is the most likely hypothesis."
   ]
  },
  {
   "cell_type": "code",
   "execution_count": 3,
   "metadata": {},
   "outputs": [
    {
     "name": "stdout",
     "output_type": "stream",
     "text": [
      "a) : The posterior probabilities for H1 and H2 for obs_a are respectively: (0.0, 1.0)\n",
      "b) : The posterior probabilities for H1 and H2 for obs_a are respectively: (0.8108108108108109, 0.18918918918918917)\n"
     ]
    }
   ],
   "source": [
    "# code here...\n",
    "def calculate_posterior_probabilities(prior_h1, prior_h2, likelihood_h1, likelihood_h2):\n",
    "    # Calculate the unnormalized posterior probabilities\n",
    "    evidence_h1 = likelihood_h1 * prior_h1\n",
    "    evidence_h2 = likelihood_h2 * prior_h2\n",
    "    \n",
    "    total = evidence_h1 + evidence_h2\n",
    "    posterior_h1 = evidence_h1 / total\n",
    "    posterior_h2 = evidence_h2 / total\n",
    "\n",
    "    return posterior_h1, posterior_h2\n",
    "\n",
    "# a): \n",
    "posteriors_for_obs_a = calculate_posterior_probabilities(prior_h1 = 0.3, prior_h2 = 0.7, likelihood_h1 = 0, likelihood_h2 = 0.01)\n",
    "print('a) : The posterior probabilities for H1 and H2 for obs_a are respectively: {}'.format(posteriors_for_obs_a))\n",
    "\n",
    "###################################################################\n",
    "\n",
    "# b):\n",
    "posteriors_for_obs_b = calculate_posterior_probabilities(prior_h1 = 0.3, prior_h2 = 0.7, likelihood_h1 = 0.1, likelihood_h2 = 0.01)\n",
    "print('b) : The posterior probabilities for H1 and H2 for obs_a are respectively: {}'.format(posteriors_for_obs_b))\n",
    "\n",
    "####################################################################\n",
    "\n",
    "# c): \n",
    "# In the first scenario the observed data did not match the pattern of Hypothesis 1 \n",
    "# (𝐻1: a vertical bar). Therefore, the likelihood of the obs_a given 𝐻1 was zero. On the other hand, \n",
    "# the data could have been produced by the process described in Hypothesis 2 (𝐻2: independent dots)  \n",
    "# so the likelihood of the data given 𝐻2 was non-zero. As a result the posterior probability of 𝐻1 was\n",
    "# zero and the posterior probability of 𝐻2 was one.\n",
    "\n",
    "# In the second scenario the observed data matched the pattern of both hypotheses. \n",
    "# However, the likelihood of the obs_b given 𝐻1 is higher than the likelihood of the obs_b given 𝐻2 \n",
    "# because there are fewer ways to produce a vertical bar than two independent dots. \n",
    "# Therefore even though the prior probability of 𝐻1 is lower than the prior probability of 𝐻2, \n",
    "# the posterior probability of 𝐻1 is higher than the posterior probability of 𝐻2.\n",
    "\n",
    "# As for why observers in this world may tend to perceive the second image as containing a single object\n",
    "# as opposed to two separate dots, this could be explained by the higher posterior probability of 𝐻1. \n",
    "# In this case, the hypothesis that the image contains a single object (a vertical bar) has a higher posterior \n",
    "# probability than the hypothesis that it contains two separate dots. Therefore, the brain is more likely \n",
    "# to perceive the image as containing a single object. This is a manifestation of the principle of maximum \n",
    "# likelihood, which states that the brain tends to interpret sensory data in the way that is most likely \n",
    "# given the prior knowledge and the observed data."
   ]
  },
  {
   "cell_type": "markdown",
   "metadata": {},
   "source": [
    "# Question 1.3 (5 pts)\n",
    "\n",
    "> In this question, we examine how an observer would estimate a continuous quantity under a noisy measurement.\n",
    "\n",
    "An observer is estimating the horizontal location of a visual stimulus on a screen (for simplicity, we assume a 1D problem). \n",
    "\n",
    "We assume a Bayesian observer with prior $p(s_\\text{hyp}) = \\mathcal{N}\\left(s| \\mu_s = 2, \\sigma_s^2 = 5^2 \\right)$ and likelihood function $p(x_\\text{obs}| s_\\text{hyp}) = \\mathcal{N}\\left(x_\\text{obs}| s_\\text{hyp}, \\sigma^2 = 2^2 \\right)$ with observed noisy measurement $x_\\text{obs} = -3$, in arbitrary units.\n",
    "\n",
    "- a) What's the value of the posterior mean estimate $\\hat{s}_\\text{PM}$?\n",
    "- b) What's the value of the maximum-likelihood estimate $\\hat{s}_\\text{ML}?$\n",
    "- c) What's the probability density of the posterior at $s_\\text{hyp} = 2.5$?\n",
    "\n",
    "Report your results in Moodle."
   ]
  },
  {
   "cell_type": "code",
   "execution_count": 4,
   "metadata": {},
   "outputs": [
    {
     "name": "stdout",
     "output_type": "stream",
     "text": [
      "a): The posterior mean estimate is: -2.310344827586207\n",
      "b): The maximum likelihood estimate is: -3\n",
      "c): The probability density of the posterior at s_hyp=2.5 is: 0.007498207939080527\n"
     ]
    }
   ],
   "source": [
    "# code here...\n",
    "mu_s = 2\n",
    "S_variance = 25\n",
    "LL_variance = 4\n",
    "x_obs = -3\n",
    "\n",
    "# a): \n",
    "# We now that S^PM is equal to the posterior mean.In order to calculate it, we can use \n",
    "# the weighted average of the prior mean and noisy measurement formula which is calculated below.\n",
    "s_hat_PM = (LL_variance / (LL_variance + S_variance)) * mu_s + (S_variance / (LL_variance + S_variance)) * x_obs  \n",
    "print(\"a): The posterior mean estimate is: {}\".format(s_hat_PM))\n",
    "\n",
    "#################################################################\n",
    "\n",
    "# b):\n",
    "# We now that in our case study, the maximum likelihood estimate(S^ML) is simply equal to xobs.\n",
    "s_hat_ML = x_obs\n",
    "print(\"b): The maximum likelihood estimate is: {}\".format(s_hat_ML))\n",
    "\n",
    "###################################################################\n",
    "\n",
    "#c):\n",
    "# For this part we should calculate the posterior's variance at first as we need it for calculating the\n",
    "# normal probability density. \n",
    "post_variance = (LL_variance * S_variance) / (LL_variance + S_variance)\n",
    "\n",
    "# Now we can calculate the posterior density as follows. We just need to use the second square root\n",
    "# of posterior variance to calculate the density.\n",
    "s_hyp = 2.5\n",
    "posterior_density = sps.norm.pdf(s_hyp, loc = s_hat_PM, scale = np.sqrt(post_variance))\n",
    "print(\"c): The probability density of the posterior at s_hyp=2.5 is: {}\".format(posterior_density))"
   ]
  },
  {
   "cell_type": "markdown",
   "metadata": {},
   "source": [
    "# Question 1.4 (5 pts)\n",
    "\n",
    "> In this question, we examine a more complex inference scenario under a noisy measurement and a complex prior.\n",
    "\n",
    "\n",
    "A Bayesian observer is estimating the value of a stimulus (e.g., horizontal location of a sound source, in arbitrary units).\n",
    "The observer is told that there are two potential sound sources (e.g., two speakers hidden behind a screen), one to the right and one to the left (0 is straight ahead), but the observer is not told the exact location of these sound sources, just a vague position.\n",
    "\n",
    "Thus, we represent the observer's prior over the potential sound location as a mixture of $K = 2$ Gaussians:\n",
    "$$p(s_\\text{hyp}) = \\sum_{k=1}^K w_k \\mathcal{N}\\left(s_\\text{hyp}| \\mu_k, \\sigma_k^2\\right)$$\n",
    "where \n",
    "$$w_1 = w_2 = \\frac{1}{2}, \\qquad \\mu_1 = -3, \\mu_2 = 3, \\qquad \\sigma_1 = \\sigma_2 = 1.$$\n",
    "Each mixture component represents one of the two potential locations of the sound (each component is Gaussian, and not a single point, because the location of the source itself is not exactly known).\n",
    "\n",
    "After the sound is played (heard as noisy measurement $x_\\text{obs}$), the likelihood is Gaussian, $p(x_\\text{obs}| s_\\text{hyp}) = \\mathcal{N}\\left(x_\\text{obs}| s_\\text{hyp}, \\sigma^2 \\right)$, with $\\sigma = 1$.\n",
    "\n",
    "- a) Compute the posterior mean for $x_\\text{obs} = 1$ via numerical integration.\n",
    "- b) Compute $p(x_\\text{obs})$ for $x_\\text{obs} = 5$ via numerical integration.\n",
    "- c) Given that the prior is a mixture of Gaussians and the likelihood is Gaussian, this is a case in which we could still perform all computations analytically. Write the analytical expression for $p(x_\\text{obs})$. Double-check the validity of your expression by computing $p(x_\\text{obs})$ for $x_\\text{obs} = 5$ and that it is the same (up to a small numerical error) as what you got in part (b).\n",
    "\n",
    "Report your numerial results in Moodle, and write the analytical expression for $p\\left(x_\\text{obs}\\right)$ below."
   ]
  },
  {
   "cell_type": "markdown",
   "metadata": {},
   "source": [
    "### Answer:\n",
    "\n",
    "Write your expression for $p(x_\\text{obs})$ here.\n",
    "\n",
    "We know that from bayesian rule the evidence is computed by integrating the product of the likelihood and the prior over all possible values of the hidden variable( since the variables are continues), which in this case is the stimulus $s_{\\text{hyp}}$. \n",
    "\n",
    "Mathematically, this is expressed as:\n",
    "\n",
    "$$p(x_{\\text{obs}}) = \\int p(x_{\\text{obs}}|s_{\\text{hyp}})p(s_{\\text{hyp}}) ds_{\\text{hyp}}$$\n",
    "\n",
    "In this case, the prior is a mixture of Gaussians, so it can be written as a sum of weighted Gaussian distributions:\n",
    "\n",
    "$$p(s_{\\text{hyp}}) = \\sum_{k=1}^{K} w_k \\mathcal{N}(s_{\\text{hyp}}|\\mu_k, \\sigma_k^2)$$\n",
    "\n",
    "Now let's substituting this into the formula for the marginal likelihood:\n",
    "\n",
    "$$p(x_{\\text{obs}}) = \\int \\sum_{k=1}^{K} w_k \\mathcal{N}(x_{\\text{obs}}|s_{\\text{hyp}}, \\sigma_{\\text{likelihood}}^2) \\mathcal{N}(s_{\\text{hyp}}|\\mu_k, \\sigma_k^2) ds_{\\text{hyp}}$$\n",
    "\n",
    "This is a complex integral that generally cannot be solved analytically. However, because both the likelihood and each component of the prior are Gaussian distributions, the integral can be solved analytically in this special case, resulting in another mixture of Gaussians:\n",
    "\n",
    "$$p(x_{\\text{obs}}) = \\sum_{k=1}^{K} w_k \\mathcal{N}(x_{\\text{obs}}|\\mu_k, \\sigma_k^2 + \\sigma_{\\text{likelihood}}^2)$$\n",
    "\n",
    "The Gaussian distribution, also known as the normal distribution, is a continuous probability distribution that is symmetric about the mean, showing that data near the mean are more frequent in occurrence than data far from the mean. The probability density function of a Gaussian distribution with mean $\\mu$ and standard deviation $\\sigma$ is given by:\n",
    "\n",
    "$$\\mathcal{N}(x|\\mu, \\sigma^2) = \\frac{1}{\\sqrt{2\\pi\\sigma^2}} \\exp\\left(-\\frac{(x-\\mu)^2}{2\\sigma^2}\\right)$$\n",
    "\n",
    "Given the prior parameters $w_1 = w_2 = 0.5$, $\\mu_1 = -3$, $\\mu_2 = 3$, $\\sigma_1 = \\sigma_2 = 1$, and the likelihood parameter $\\sigma_{\\text{likelihood}} = 1$, the analytical expression for $p(x_{\\text{obs}})$ is:\n",
    "\n",
    "$$p(x_{\\text{obs}}) = \\sum_{k=1}^{2} w_k \\mathcal{N}(x_{\\text{obs}}|\\mu_k, \\sigma_k^2 + \\sigma_{\\text{likelihood}}^2)$$\n",
    "\n",
    "Substituting $x_{\\text{obs}} = 5$ into the above formula, we get:\n",
    "\n",
    "$$p(5) = 0.5 \\cdot \\mathcal{N}(5|-3, 1^2 + 1^2) + 0.5 \\cdot \\mathcal{N}(5|3, 1^2 + 1^2)$$\n",
    "\n",
    "After sunstituting the value of these two probabilities we have \n",
    "$p(5) =  1.5872793339833254e-08 + 0.051888437177574354 = 0.05188845305036769 $\n",
    "which is equal to the numeric value.\n"
   ]
  },
  {
   "cell_type": "code",
   "execution_count": 5,
   "metadata": {
    "scrolled": true
   },
   "outputs": [
    {
     "name": "stdout",
     "output_type": "stream",
     "text": [
      "a): The posterior mean is: 1.8577223804672995\n",
      "b): The p_xobs for x_obs = 5 is :0.05188845305036659\n",
      "C): The marginal likelihood for x_obs = 5 is 0.05188845305036769\n"
     ]
    }
   ],
   "source": [
    "# code here...\n",
    "# In this section we define the needed functions at first and then calculate the numercal integrations.\n",
    "# Prior parameters\n",
    "w = [0.5, 0.5]\n",
    "mu = [-3, 3]\n",
    "sigma = [1, 1]\n",
    "\n",
    "# Likelihood parameters\n",
    "sigma_likelihood = 1\n",
    "\n",
    "# Define the prior, likelihood, and posterior\n",
    "def prior(s):\n",
    "    return sum(w[i] * sps.norm.pdf(s, mu[i], sigma[i]) for i in range(len(w)))\n",
    "\n",
    "def likelihood(s, x_obs):\n",
    "    return sps.norm.pdf(x_obs, s, sigma_likelihood)\n",
    "\n",
    "def posterior(s, x_obs):\n",
    "    return likelihood(s, x_obs) * prior(s)\n",
    "\n",
    "s_values = np.linspace(-10, 10, 501)\n",
    "dx = s_values[1] - s_values[0]\n",
    "\n",
    "##########################################################\n",
    "\n",
    "# a):\n",
    "x_obs = 1\n",
    "# Compute the unnormalized posterior values\n",
    "posterior_values = posterior(s_values, x_obs)\n",
    "# Compute the normalization constant\n",
    "Z = spi.trapezoid(posterior_values, dx=dx)\n",
    "\n",
    "# Define the normalized posterior distribution\n",
    "def normalized_posterior(s):\n",
    "    return posterior(s, x_obs) / Z\n",
    "\n",
    "# Compute the posterior mean\n",
    "posterior_mean = spi.trapezoid(s_values * normalized_posterior(s_values), dx=dx)\n",
    "print(\"a): The posterior mean is: {}\".format(posterior_mean))\n",
    "\n",
    "############################################################\n",
    "\n",
    "# b):\n",
    "x_obs = 5\n",
    "multi_values = likelihood(s_values, x_obs) * prior(s_values)\n",
    "p_xobs = spi.trapezoid(multi_values, dx=dx)\n",
    "print(\"b): The p_xobs for x_obs = {} is :{}\".format(x_obs,p_xobs))\n",
    "\n",
    "###########################################################\n",
    "\n",
    "# c):In this section we can compare the obtained result from tha previous section.\n",
    "# As you can see the results from numerical integration and analytical way are the same.\n",
    "p_x_obs = sum(w[i] * sps.norm.pdf(x_obs, mu[i], np.sqrt(sigma[i]**2 + sigma_likelihood**2)) for i in range(len(w)))\n",
    "print(\"C): The marginal likelihood for x_obs = {} is {}\".format(x_obs , p_x_obs))"
   ]
  }
 ],
 "metadata": {
  "kernelspec": {
   "display_name": "Python 3 (ipykernel)",
   "language": "python",
   "name": "python3"
  },
  "language_info": {
   "codemirror_mode": {
    "name": "ipython",
    "version": 3
   },
   "file_extension": ".py",
   "mimetype": "text/x-python",
   "name": "python",
   "nbconvert_exporter": "python",
   "pygments_lexer": "ipython3",
   "version": "3.9.12"
  }
 },
 "nbformat": 4,
 "nbformat_minor": 4
}
